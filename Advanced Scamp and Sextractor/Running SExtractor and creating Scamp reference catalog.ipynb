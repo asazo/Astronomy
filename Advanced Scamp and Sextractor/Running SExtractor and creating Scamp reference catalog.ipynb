{
 "cells": [
  {
   "cell_type": "code",
   "execution_count": 14,
   "metadata": {
    "collapsed": false
   },
   "outputs": [
    {
     "name": "stdout",
     "output_type": "stream",
     "text": [
      "The autoreload extension is already loaded. To reload it, use:\n",
      "  %reload_ext autoreload\n"
     ]
    }
   ],
   "source": [
    "import numpy as np\n",
    "\n",
    "%load_ext autoreload\n",
    "%autoreload 2\n",
    "from astromatic_tools import create_sex_cat"
   ]
  },
  {
   "cell_type": "code",
   "execution_count": 15,
   "metadata": {
    "collapsed": false
   },
   "outputs": [
    {
     "name": "stdout",
     "output_type": "stream",
     "text": [
      "sex -c astromatic_config/sex_default.sex -DETECT_THRESH 2. -DETECT_MINAREA 3 -ANALYSIS_THRESH 2. -DEBLEND_MINCONT 0.001 -BACK_SIZE 64 -BACK_FILTERSIZE 3 -PARAMETERS_NAME astromatic_config/sex_default.param -FILTER_NAME astromatic_config/sex_default.conv -CATALOG_TYPE FITS_LDAC -WEIGHT_TYPE MAP_WEIGHT -MAG_ZEROPOINT 30.00 -SATUR_LEVEL 65536.00 -MEMORY_PIXSTACK 1000000 -CHECKIMAGE_TYPE NONE -CHECKIMAGE_NAME NONE -SEEING_FWHM 0.60 -PIXEL_SCALE 0.186 -PHOT_APERTURES 19.355 -CATALOG_NAME data/VCC1010_cat.ldac -WEIGHT_IMAGE data/VCC1010.WEIGHT.fits data/VCC1010.fits\n",
      "\u001b[1M> \n",
      "\u001b[1A----- SExtractor 2.19.5 started on 2016-05-03 at 17:36:55 with 1 thread\n",
      "\n",
      "\u001b[1M> Setting catalog parameters\n",
      "\u001b[1A\u001b[1M> Reading detection filter\n",
      "\u001b[1A\u001b[1M> Initializing catalog\n",
      "\u001b[1A\u001b[1M> Looking for VCC1010.fits\n",
      "\u001b[1A----- Measuring from: VCC1010.fits\n",
      "      \"NGVS-1+0\" / no ext. header / 1800x18\n"
     ]
    }
   ],
   "source": [
    "im_file='data/VCC1010.fits'\n",
    "weight_file='data/VCC1010.WEIGHT.fits'\n",
    "\n",
    "create_sex_cat(im_file, weight_file=weight_file)"
   ]
  },
  {
   "cell_type": "code",
   "execution_count": null,
   "metadata": {
    "collapsed": true
   },
   "outputs": [],
   "source": []
  },
  {
   "cell_type": "code",
   "execution_count": null,
   "metadata": {
    "collapsed": true
   },
   "outputs": [],
   "source": []
  }
 ],
 "metadata": {
  "kernelspec": {
   "display_name": "Python 2",
   "language": "python",
   "name": "python2"
  },
  "language_info": {
   "codemirror_mode": {
    "name": "ipython",
    "version": 2
   },
   "file_extension": ".py",
   "mimetype": "text/x-python",
   "name": "python",
   "nbconvert_exporter": "python",
   "pygments_lexer": "ipython2",
   "version": "2.7.10"
  }
 },
 "nbformat": 4,
 "nbformat_minor": 0
}
