{
 "cells": [
  {
   "cell_type": "code",
   "execution_count": 72,
   "metadata": {
    "collapsed": true
   },
   "outputs": [],
   "source": [
    "import os\n",
    "import sys\n",
    "import shlex\n",
    "import subprocess\n",
    "from glob import glob\n",
    "from os.path import join\n",
    "import math as m\n",
    "import numpy as np\n",
    "import pyfits\n",
    "from pylab import *\n",
    "%matplotlib inline\n",
    "import matplotlib.pyplot as plt\n",
    "from astropy.io import fits\n",
    "from astropy.io import ascii\n",
    "from astropy.stats import funcs\n",
    "from astropy.table import Table"
   ]
  },
  {
   "cell_type": "code",
   "execution_count": 24,
   "metadata": {
    "collapsed": false
   },
   "outputs": [
    {
     "name": "stdout",
     "output_type": "stream",
     "text": [
      "['data/xcs/xcs0083000101_r_d1.fits.fz', 'data/xcs/xcs0083000101_r_d2.fits.fz', 'data/xcs/xcs0083000101_z_d1.fits.fz', 'data/xcs/xcs0083000101_z_d2.fits.fz', 'data/xcs/xcs0142610101_r_d1.fits.fz', 'data/xcs/xcs0142610101_r_d2.fits.fz', 'data/xcs/xcs0142610101_z_d1.fits.fz', 'data/xcs/xcs0142610101_z_d2.fits.fz']\n"
     ]
    }
   ],
   "source": [
    "im_dir = 'data/xcs/'\n",
    "im_suffix = '*.fits.fz'\n",
    "im_file=glob(join(im_dir, im_suffix))\n",
    "print im_file"
   ]
  },
  {
   "cell_type": "code",
   "execution_count": 8,
   "metadata": {
    "collapsed": false
   },
   "outputs": [
    {
     "name": "stdout",
     "output_type": "stream",
     "text": [
      "Unpacking file  data/xcs/xcs0083000101_r_d1.fits.fz\n",
      "Unpacking file  data/xcs/xcs0083000101_r_d2.fits.fz\n",
      "Unpacking file  data/xcs/xcs0083000101_z_d1.fits.fz\n",
      "Unpacking file  data/xcs/xcs0083000101_z_d2.fits.fz\n",
      "Unpacking file  data/xcs/xcs0142610101_r_d1.fits.fz\n",
      "Unpacking file  data/xcs/xcs0142610101_r_d2.fits.fz\n",
      "Unpacking file  data/xcs/xcs0142610101_z_d1.fits.fz\n",
      "Unpacking file  data/xcs/xcs0142610101_z_d2.fits.fz\n"
     ]
    }
   ],
   "source": [
    "for file in im_file:\n",
    "    print 'Unpacking file ', file\n",
    "    cmd='funpack '+file\n",
    "    subprocess.call(cmd,shell=True)"
   ]
  },
  {
   "cell_type": "code",
   "execution_count": 25,
   "metadata": {
    "collapsed": false
   },
   "outputs": [
    {
     "name": "stdout",
     "output_type": "stream",
     "text": [
      "['data/xcs/xcs0083000101_r_d1.fits', 'data/xcs/xcs0083000101_r_d2.fits', 'data/xcs/xcs0083000101_z_d1.fits', 'data/xcs/xcs0083000101_z_d2.fits', 'data/xcs/xcs0142610101_r_d1.fits', 'data/xcs/xcs0142610101_r_d2.fits', 'data/xcs/xcs0142610101_z_d1.fits', 'data/xcs/xcs0142610101_z_d2.fits']\n"
     ]
    }
   ],
   "source": [
    "im_suffix = '*.fits'\n",
    "im_file=glob(join(root, root_end))\n",
    "print im_file"
   ]
  },
  {
   "cell_type": "code",
   "execution_count": 27,
   "metadata": {
    "collapsed": false
   },
   "outputs": [
    {
     "name": "stdout",
     "output_type": "stream",
     "text": [
      "['sextractor/xcs0083000101_r_d1_cat.ldac', 'sextractor/xcs0083000101_r_d2_cat.ldac', 'sextractor/xcs0083000101_z_d1_cat.ldac', 'sextractor/xcs0083000101_z_d2_cat.ldac', 'sextractor/xcs0142610101_r_d1_cat.ldac', 'sextractor/xcs0142610101_r_d2_cat.ldac', 'sextractor/xcs0142610101_z_d1_cat.ldac', 'sextractor/xcs0142610101_z_d2_cat.ldac']\n"
     ]
    }
   ],
   "source": [
    "sex_dir='sextractor/'\n",
    "if not os.path.exists(sex_dir):\n",
    "    os.mkdir(sex_dir)\n",
    "\n",
    "cat_file=[]\n",
    "for i in range(len(im_file)):\n",
    "    cat_file.append(im_file[i].replace(im_dir,sex_dir).replace('.fits','_cat.ldac'))\n",
    "print cat_file"
   ]
  },
  {
   "cell_type": "code",
   "execution_count": 28,
   "metadata": {
    "collapsed": true
   },
   "outputs": [],
   "source": [
    "file = open(sex_dir+\"gauss_3.0_5x5.conv\", 'w')\n",
    "file.write(\"CONV NORM\\n\")\n",
    "file.write(\"# 5x5 convolution mask of a gaussian PSF with FWHM = 3.0 pixels.\\n\")\n",
    "file.write(\"0.092163 0.221178 0.296069 0.221178 0.092163\\n\")\n",
    "file.write(\"0.221178 0.530797 0.710525 0.530797 0.221178\\n\")\n",
    "file.write(\"0.296069 0.710525 0.951108 0.710525 0.296069\\n\")\n",
    "file.write(\"0.221178 0.530797 0.710525 0.530797 0.221178\\n\")\n",
    "file.write(\"0.092163 0.221178 0.296069 0.221178 0.092163\\n\")\n",
    "file.close()"
   ]
  },
  {
   "cell_type": "code",
   "execution_count": 78,
   "metadata": {
    "collapsed": true
   },
   "outputs": [],
   "source": [
    "file = open(sex_dir+\"kp4m_mosaic.param\", 'w')\n",
    "file.write(\"NUMBER                 Running object number                                      \\n\")\n",
    "file.write(\"X_IMAGE                Object position along x                                    [pixel]\\n\")\n",
    "file.write(\"Y_IMAGE                Object position along y                                    [pixel]\\n\")\n",
    "file.write(\"XWIN_IMAGE             Windowed position estimate along x                         [pixel]\\n\")\n",
    "file.write(\"YWIN_IMAGE             Windowed position estimate along y                         [pixel]\\n\")\n",
    "file.write(\"ERRAWIN_IMAGE          RMS windowed pos error along major axis                    [pixel]\\n\")\n",
    "file.write(\"ERRBWIN_IMAGE          RMS windowed pos error along minor axis                    [pixel]\\n\")\n",
    "file.write(\"ERRTHETAWIN_IMAGE      Windowed error ellipse pos angle (CCW/x)                   [deg]\\n\")\n",
    "file.write(\"ALPHA_J2000            Right ascension of barycenter (J2000)                      [deg]\\n\")\n",
    "file.write(\"DELTA_J2000            Declination of barycenter (J2000)                          [deg]\\n\")\n",
    "file.write(\"FLUX_APER(1)           # Flux vector within fixed circular aperture(s)            [count]\\n\")\n",
    "file.write(\"FLUXERR_APER(1)        # RMS error vector for aperture flux(es)                   [count]\\n\")\n",
    "file.write(\"FLUX_AUTO              Flux within a Kron-like elliptical aperture                [count]\\n\")\n",
    "file.write(\"FLUXERR_AUTO           RMS error for AUTO flux                                    [count]\\n\")\n",
    "file.write(\"MAG_AUTO               Kron-like elliptical aperture magnitude                    [mag]\\n\")\n",
    "file.write(\"MAGERR_AUTO            RMS error for AUTO magnitude                               [mag]\\n\")\n",
    "file.write(\"KRON_RADIUS            Kron apertures in units of A or B                          \\n\")\n",
    "file.write(\"A_IMAGE                Profile RMS along major axis                               [pixel]\\n\")\n",
    "file.write(\"B_IMAGE                Profile RMS along minor axis                               [pixel]\\n\")\n",
    "file.write(\"THETA_IMAGE            Position angle (CCW/x)                                     [deg]\\n\")\n",
    "file.write(\"ELLIPTICITY            1 - B_IMAGE/A_IMAGE                                        \\n\")\n",
    "file.write(\"FLUX_MAX               Peak flux above background                                 [count]\\n\")\n",
    "file.write(\"FWHM_IMAGE             FWHM assuming a gaussian core                              [pixel]\\n\")\n",
    "file.write(\"FLUX_RADIUS(1)         # Fraction-of-light radii                                  [pixel]\\n\")\n",
    "file.write(\"CLASS_STAR             S/G classifier output\\n\")\n",
    "file.write(\"FLAGS                  Extraction flags                                           \\n\")\n",
    "file.close()"
   ]
  },
  {
   "cell_type": "code",
   "execution_count": 79,
   "metadata": {
    "collapsed": false
   },
   "outputs": [
    {
     "name": "stdout",
     "output_type": "stream",
     "text": [
      "# Default configuration file for SExtractor 2.19.5\n",
      "# EB 2015-12-16\n",
      "#\n",
      " \n",
      "#-------------------------------- Catalog ------------------------------------\n",
      " \n",
      "CATALOG_NAME     test.cat       # name of the output catalog\n",
      "CATALOG_TYPE     ASCII_HEAD     # NONE,ASCII,ASCII_HEAD, ASCII_SKYCAT,\n",
      "                                # ASCII_VOTABLE, FITS_1.0 or FITS_LDAC\n",
      "PARAMETERS_NAME  default.param  # name of the file containing catalog contents\n",
      " \n",
      "#------------------------------- Extraction ----------------------------------\n",
      " \n",
      "DETECT_TYPE      CCD            # CCD (linear) or PHOTO (with gamma correction)\n",
      "DETECT_MINAREA   5              # min. # of pixels above threshold\n",
      "DETECT_THRESH    1.5            # <sigmas> or <threshold>,<ZP> in mag.arcsec-2\n",
      "ANALYSIS_THRESH  1.5            # <sigmas> or <threshold>,<ZP> in mag.arcsec-2\n",
      " \n",
      "FILTER           Y              # apply filter for detection (Y or N)?\n",
      "FILTER_NAME      default.conv   # name of the file containing the filter\n",
      " \n",
      "DEBLEND_NTHRESH  32             # Number of deblending sub-thresholds\n",
      "DEBLEND_MINCONT  0.005          # Minimum contrast parameter for deblending\n",
      " \n",
      "CLEAN            Y              # Clean spurious detections? (Y or N)?\n",
      "CLEAN_PARAM      1.0            # Cleaning efficiency\n",
      " \n",
      "MASK_TYPE        CORRECT        # type of detection MASKing: can be one of\n",
      "                                # NONE, BLANK or CORRECT\n",
      " \n",
      "#------------------------------ Photometry -----------------------------------\n",
      " \n",
      "PHOT_APERTURES   5              # MAG_APER aperture diameter(s) in pixels\n",
      "PHOT_AUTOPARAMS  2.5, 3.5       # MAG_AUTO parameters: <Kron_fact>,<min_radius>\n",
      "PHOT_PETROPARAMS 2.0, 3.5       # MAG_PETRO parameters: <Petrosian_fact>,\n",
      "                                # <min_radius>\n",
      " \n",
      "SATUR_LEVEL      50000.0        # level (in ADUs) at which arises saturation\n",
      "SATUR_KEY        SATURATE       # keyword for saturation level (in ADUs)\n",
      " \n",
      "MAG_ZEROPOINT    0.0            # magnitude zero-point\n",
      "MAG_GAMMA        4.0            # gamma of emulsion (for photographic scans)\n",
      "GAIN             0.0            # detector gain in e-/ADU\n",
      "GAIN_KEY         GAIN           # keyword for detector gain in e-/ADU\n",
      "PIXEL_SCALE      1.0            # size of pixel in arcsec (0=use FITS WCS info)\n",
      " \n",
      "#------------------------- Star/Galaxy Separation ----------------------------\n",
      " \n",
      "SEEING_FWHM      1.2            # stellar FWHM in arcsec\n",
      "STARNNW_NAME     default.nnw    # Neural-Network_Weight table filename\n",
      " \n",
      "#------------------------------ Background -----------------------------------\n",
      " \n",
      "BACK_SIZE        64             # Background mesh: <size> or <width>,<height>\n",
      "BACK_FILTERSIZE  3              # Background filter: <size> or <width>,<height>\n",
      " \n",
      "BACKPHOTO_TYPE   GLOBAL         # can be GLOBAL or LOCAL\n",
      " \n",
      "#------------------------------ Check Image ----------------------------------\n",
      " \n",
      "CHECKIMAGE_TYPE  NONE           # can be NONE, BACKGROUND, BACKGROUND_RMS,\n",
      "                                # MINIBACKGROUND, MINIBACK_RMS, -BACKGROUND,\n",
      "                                # FILTERED, OBJECTS, -OBJECTS, SEGMENTATION,\n",
      "                                # or APERTURES\n",
      "CHECKIMAGE_NAME  check.fits     # Filename for the check-image\n",
      " \n",
      "#--------------------- Memory (change with caution!) -------------------------\n",
      " \n",
      "MEMORY_OBJSTACK  3000           # number of objects in stack\n",
      "MEMORY_PIXSTACK  300000         # number of pixels in stack\n",
      "MEMORY_BUFSIZE   1024           # number of lines in buffer\n",
      " \n",
      "#----------------------------- Miscellaneous ---------------------------------\n",
      " \n",
      "VERBOSE_TYPE     NORMAL         # can be QUIET, NORMAL or FULL\n",
      "HEADER_SUFFIX    .head          # Filename extension for additional headers\n",
      "WRITE_XML        N              # Write XML file (Y/N)?\n",
      "XML_NAME         sex.xml        # Filename for XML output\n",
      "\n"
     ]
    }
   ],
   "source": [
    "cmd='sex -d > '+sex_dir+'kp4m_mosaic.sex'\n",
    "subprocess.call(cmd,shell=True)\n",
    "cmd='cat '+sex_dir+'kp4m_mosaic.sex'\n",
    "print subprocess.check_output(cmd,shell=True)"
   ]
  },
  {
   "cell_type": "code",
   "execution_count": 80,
   "metadata": {
    "collapsed": true
   },
   "outputs": [],
   "source": [
    "sex_conf_file=sex_dir+'kp4m_mosaic.sex'\n",
    "sex_param_file=sex_dir+'kp4m_mosaic.param'\n",
    "sex_conv_file=sex_dir+'gauss_3.0_5x5.conv'\n",
    "sex_starnnw_file=sex_dir+'default.nnw'\n",
    "sex_cat_type='FITS_LDAC'\n",
    "sex_zp='30.'\n",
    "sex_pixel_scale='0.258'\n",
    "sex_seeing_fwhm='1.2'\n",
    "sex_phot_apertures=str(2*3*float(sex_seeing_fwhm)/float(sex_pixel_scale))\n",
    "sex_satur_level='36000'\n",
    "sex_mem_pixstack='1000000'\n",
    "sex_check_type='BACKGROUND,FILTERED'\n",
    "sex_check_name=sex_dir+'science.CHECK_BACKGROUND.fits'+','+sex_dir+'science.CHECK_FILTERED.fits'"
   ]
  },
  {
   "cell_type": "code",
   "execution_count": 81,
   "metadata": {
    "collapsed": false
   },
   "outputs": [
    {
     "name": "stdout",
     "output_type": "stream",
     "text": [
      "sex -c sextractor/kp4m_mosaic.sex -PARAMETERS_NAME sextractor/kp4m_mosaic.param -FILTER_NAME sextractor/gauss_3.0_5x5.conv -STARNNW_NAME sextractor/default.nnw -CATALOG_TYPE FITS_LDAC -MAG_ZEROPOINT 30. -PIXEL_SCALE 0.258 -SEEING_FWHM 1.2 -PHOT_APERTURES 27.9069767442 -SATUR_LEVEL 36000 -MEMORY_PIXSTACK 1000000 -CHECKIMAGE_TYPE BACKGROUND,FILTERED -CHECKIMAGE_NAME sextractor/science.CHECK_BACKGROUND.fits,sextractor/science.CHECK_FILTERED.fits -CATALOG_NAME sextractor/xcs0083000101_r_d1_cat.ldac data/xcs/xcs0083000101_r_d1.fits\n",
      "     \n",
      "\n",
      "\u001b[1M> Closing files\n",
      "\u001b[1A\u001b[1M> \n",
      "\u001b[1A> All done (in 27.4 s: 149.7 lines/s , 62.2 detections/s)\n",
      "sex -c sextractor/kp4m_mosaic.sex -PARAMETERS_NAME sextractor/kp4m_mosaic.param -FILTER_NAME sextractor/gauss_3.0_5x5.conv -STARNNW_NAME sextractor/default.nnw -CATALOG_TYPE FITS_LDAC -MAG_ZEROPOINT 30. -PIXEL_SCALE 0.258 -SEEING_FWHM 1.2 -PHOT_APERTURES 27.9069767442 -SATUR_LEVEL 36000 -MEMORY_PIXSTACK 1000000 -CHECKIMAGE_TYPE BACKGROUND,FILTERED -CHECKIMAGE_NAME sextractor/science.CHECK_BACKGROUND.fits,sextractor/science.CHECK_FILTERED.fits -CATALOG_NAME sextractor/xcs0083000101_r_d2_cat.ldac data/xcs/xcs0083000101_r_d2.fits\n",
      "     \n",
      "\n",
      "\u001b[1M> Closing files\n",
      "\u001b[1A\u001b[1M> \n",
      "\u001b[1A> All done (in 26.8 s: 152.9 lines/s , 59.1 detections/s)\n",
      "sex -c sextractor/kp4m_mosaic.sex -PARAMETERS_NAME sextractor/kp4m_mosaic.param -FILTER_NAME sextractor/gauss_3.0_5x5.conv -STARNNW_NAME sextractor/default.nnw -CATALOG_TYPE FITS_LDAC -MAG_ZEROPOINT 30. -PIXEL_SCALE 0.258 -SEEING_FWHM 1.2 -PHOT_APERTURES 27.9069767442 -SATUR_LEVEL 36000 -MEMORY_PIXSTACK 1000000 -CHECKIMAGE_TYPE BACKGROUND,FILTERED -CHECKIMAGE_NAME sextractor/science.CHECK_BACKGROUND.fits,sextractor/science.CHECK_FILTERED.fits -CATALOG_NAME sextractor/xcs0083000101_z_d1_cat.ldac data/xcs/xcs0083000101_z_d1.fits\n",
      "     \n",
      "\n",
      "\u001b[1M> Closing files\n",
      "\u001b[1A\u001b[1M> \n",
      "\u001b[1A> All done (in 26.2 s: 156.2 lines/s , 44.7 detections/s)\n",
      "sex -c sextractor/kp4m_mosaic.sex -PARAMETERS_NAME sextractor/kp4m_mosaic.param -FILTER_NAME sextractor/gauss_3.0_5x5.conv -STARNNW_NAME sextractor/default.nnw -CATALOG_TYPE FITS_LDAC -MAG_ZEROPOINT 30. -PIXEL_SCALE 0.258 -SEEING_FWHM 1.2 -PHOT_APERTURES 27.9069767442 -SATUR_LEVEL 36000 -MEMORY_PIXSTACK 1000000 -CHECKIMAGE_TYPE BACKGROUND,FILTERED -CHECKIMAGE_NAME sextractor/science.CHECK_BACKGROUND.fits,sextractor/science.CHECK_FILTERED.fits -CATALOG_NAME sextractor/xcs0083000101_z_d2_cat.ldac data/xcs/xcs0083000101_z_d2.fits\n",
      "     \n",
      "\n",
      "\u001b[1M> Closing files\n",
      "\u001b[1A\u001b[1M> \n",
      "\u001b[1A> All done (in 22.5 s: 182.4 lines/s , 46.1 detections/s)\n",
      "sex -c sextractor/kp4m_mosaic.sex -PARAMETERS_NAME sextractor/kp4m_mosaic.param -FILTER_NAME sextractor/gauss_3.0_5x5.conv -STARNNW_NAME sextractor/default.nnw -CATALOG_TYPE FITS_LDAC -MAG_ZEROPOINT 30. -PIXEL_SCALE 0.258 -SEEING_FWHM 1.2 -PHOT_APERTURES 27.9069767442 -SATUR_LEVEL 36000 -MEMORY_PIXSTACK 1000000 -CHECKIMAGE_TYPE BACKGROUND,FILTERED -CHECKIMAGE_NAME sextractor/science.CHECK_BACKGROUND.fits,sextractor/science.CHECK_FILTERED.fits -CATALOG_NAME sextractor/xcs0142610101_r_d1_cat.ldac data/xcs/xcs0142610101_r_d1.fits\n",
      "     \n",
      "\n",
      "\u001b[1M> Closing files\n",
      "\u001b[1A\u001b[1M> \n",
      "\u001b[1A> All done (in 25.7 s: 159.3 lines/s , 50.4 detections/s)\n",
      "sex -c sextractor/kp4m_mosaic.sex -PARAMETERS_NAME sextractor/kp4m_mosaic.param -FILTER_NAME sextractor/gauss_3.0_5x5.conv -STARNNW_NAME sextractor/default.nnw -CATALOG_TYPE FITS_LDAC -MAG_ZEROPOINT 30. -PIXEL_SCALE 0.258 -SEEING_FWHM 1.2 -PHOT_APERTURES 27.9069767442 -SATUR_LEVEL 36000 -MEMORY_PIXSTACK 1000000 -CHECKIMAGE_TYPE BACKGROUND,FILTERED -CHECKIMAGE_NAME sextractor/science.CHECK_BACKGROUND.fits,sextractor/science.CHECK_FILTERED.fits -CATALOG_NAME sextractor/xcs0142610101_r_d2_cat.ldac data/xcs/xcs0142610101_r_d2.fits\n",
      "     \n",
      "\n",
      "\u001b[1M> Closing files\n",
      "\u001b[1A\u001b[1M> \n",
      "\u001b[1A> All done (in 27.1 s: 151.4 lines/s , 52.4 detections/s)\n",
      "sex -c sextractor/kp4m_mosaic.sex -PARAMETERS_NAME sextractor/kp4m_mosaic.param -FILTER_NAME sextractor/gauss_3.0_5x5.conv -STARNNW_NAME sextractor/default.nnw -CATALOG_TYPE FITS_LDAC -MAG_ZEROPOINT 30. -PIXEL_SCALE 0.258 -SEEING_FWHM 1.2 -PHOT_APERTURES 27.9069767442 -SATUR_LEVEL 36000 -MEMORY_PIXSTACK 1000000 -CHECKIMAGE_TYPE BACKGROUND,FILTERED -CHECKIMAGE_NAME sextractor/science.CHECK_BACKGROUND.fits,sextractor/science.CHECK_FILTERED.fits -CATALOG_NAME sextractor/xcs0142610101_z_d1_cat.ldac data/xcs/xcs0142610101_z_d1.fits\n",
      "     \n",
      "\n",
      "\u001b[1M> Closing files\n",
      "\u001b[1A\u001b[1M> \n",
      "\u001b[1A> All done (in 22.3 s: 184.0 lines/s , 38.3 detections/s)\n",
      "sex -c sextractor/kp4m_mosaic.sex -PARAMETERS_NAME sextractor/kp4m_mosaic.param -FILTER_NAME sextractor/gauss_3.0_5x5.conv -STARNNW_NAME sextractor/default.nnw -CATALOG_TYPE FITS_LDAC -MAG_ZEROPOINT 30. -PIXEL_SCALE 0.258 -SEEING_FWHM 1.2 -PHOT_APERTURES 27.9069767442 -SATUR_LEVEL 36000 -MEMORY_PIXSTACK 1000000 -CHECKIMAGE_TYPE BACKGROUND,FILTERED -CHECKIMAGE_NAME sextractor/science.CHECK_BACKGROUND.fits,sextractor/science.CHECK_FILTERED.fits -CATALOG_NAME sextractor/xcs0142610101_z_d2_cat.ldac data/xcs/xcs0142610101_z_d2.fits\n",
      "     \n",
      "\n",
      "\u001b[1M> Closing files\n",
      "\u001b[1A\u001b[1M> \n",
      "\u001b[1A> All done (in 19.7 s: 207.7 lines/s , 44.9 detections/s)\n"
     ]
    }
   ],
   "source": [
    "for i in range(len(im_file)):\n",
    "    cmd='sex -c '+sex_conf_file+' -PARAMETERS_NAME '+sex_param_file+' -FILTER_NAME '+sex_conv_file+' -STARNNW_NAME '+sex_starnnw_file+' -CATALOG_TYPE '+sex_cat_type+' -MAG_ZEROPOINT '+sex_zp+' -PIXEL_SCALE '+sex_pixel_scale+' -SEEING_FWHM '+sex_seeing_fwhm+' -PHOT_APERTURES '+sex_phot_apertures+' -SATUR_LEVEL '+sex_satur_level+' -MEMORY_PIXSTACK '+sex_mem_pixstack+' -CHECKIMAGE_TYPE '+sex_check_type+' -CHECKIMAGE_NAME '+sex_check_name+' -CATALOG_NAME '+cat_file[i]+' '+im_file[i]\n",
    "    cmd_args=shlex.split(cmd)\n",
    "    print cmd\n",
    "    proc = subprocess.Popen(cmd_args,stdout=subprocess.PIPE, stderr=subprocess.PIPE)\n",
    "    stdout, stderr = proc.communicate()\n",
    "    print stderr[-100:-1]"
   ]
  },
  {
   "cell_type": "code",
   "execution_count": 83,
   "metadata": {
    "collapsed": false
   },
   "outputs": [
    {
     "name": "stdout",
     "output_type": "stream",
     "text": [
      "ColDefs(\n",
      "    name = 'NUMBER'; format = '1J'; disp = 'I10'\n",
      "    name = 'X_IMAGE'; format = '1E'; unit = 'pixel'; disp = 'F11.4'\n",
      "    name = 'Y_IMAGE'; format = '1E'; unit = 'pixel'; disp = 'F11.4'\n",
      "    name = 'XWIN_IMAGE'; format = '1D'; unit = 'pixel'; disp = 'F11.4'\n",
      "    name = 'YWIN_IMAGE'; format = '1D'; unit = 'pixel'; disp = 'F11.4'\n",
      "    name = 'ERRAWIN_IMAGE'; format = '1E'; unit = 'pixel'; disp = 'F9.5'\n",
      "    name = 'ERRBWIN_IMAGE'; format = '1E'; unit = 'pixel'; disp = 'F9.5'\n",
      "    name = 'ERRTHETAWIN_IMAGE'; format = '1E'; unit = 'deg'; disp = 'F6.2'\n",
      "    name = 'ALPHA_J2000'; format = '1D'; unit = 'deg'; disp = 'F11.7'\n",
      "    name = 'DELTA_J2000'; format = '1D'; unit = 'deg'; disp = 'F11.7'\n",
      "    name = 'FLUX_APER'; format = '1E'; unit = 'count'; disp = 'G12.7'\n",
      "    name = 'FLUXERR_APER'; format = '1E'; unit = 'count'; disp = 'G12.7'\n",
      "    name = 'FLUX_AUTO'; format = '1E'; unit = 'count'; disp = 'G12.7'\n",
      "    name = 'FLUXERR_AUTO'; format = '1E'; unit = 'count'; disp = 'G12.7'\n",
      "    name = 'MAG_AUTO'; format = '1E'; unit = 'mag'; disp = 'F8.4'\n",
      "    name = 'MAGERR_AUTO'; format = '1E'; unit = 'mag'; disp = 'F8.4'\n",
      "    name = 'KRON_RADIUS'; format = '1E'; disp = 'F5.2'\n",
      "    name = 'A_IMAGE'; format = '1E'; unit = 'pixel'; disp = 'F9.3'\n",
      "    name = 'B_IMAGE'; format = '1E'; unit = 'pixel'; disp = 'F9.3'\n",
      "    name = 'THETA_IMAGE'; format = '1E'; unit = 'deg'; disp = 'F6.2'\n",
      "    name = 'ELLIPTICITY'; format = '1E'; disp = 'F8.3'\n",
      "    name = 'FLUX_MAX'; format = '1E'; unit = 'count'; disp = 'G12.7'\n",
      "    name = 'FWHM_IMAGE'; format = '1E'; unit = 'pixel'; disp = 'F8.2'\n",
      "    name = 'FLUX_RADIUS'; format = '1E'; unit = 'pixel'; disp = 'F10.3'\n",
      "    name = 'CLASS_STAR'; format = '1E'; disp = 'F6.3'\n",
      "    name = 'FLAGS'; format = '1I'; disp = 'I3'\n",
      ")\n"
     ]
    },
    {
     "data": {
      "text/plain": [
       "array([   1,    2,    3, ..., 1759, 1760, 1761], dtype=int32)"
      ]
     },
     "execution_count": 83,
     "metadata": {},
     "output_type": "execute_result"
    }
   ],
   "source": [
    "hdulist=fits.open(cat_file[0])\n",
    "cat_data=hdulist[2].data\n",
    "print cat_data.columns\n",
    "cat_data['NUMBER']"
   ]
  },
  {
   "cell_type": "code",
   "execution_count": 97,
   "metadata": {
    "collapsed": false
   },
   "outputs": [
    {
     "data": {
      "text/plain": [
       "<matplotlib.collections.PathCollection at 0x106bfd750>"
      ]
     },
     "execution_count": 97,
     "metadata": {},
     "output_type": "execute_result"
    },
    {
     "data": {
      "image/png": "[encoded data removed]",
      "text/plain": [
       "<matplotlib.figure.Figure at 0x1069b2e10>"
      ]
     },
     "metadata": {},
     "output_type": "display_data"
    }
   ],
   "source": [
    "fig = plt.figure(figsize=(12,9))\n",
    "ax1 = fig.add_subplot(111)\n",
    "ax1.set_ylim([28,18])\n",
    "ax1.set_xlim([0,15])\n",
    "ax1.set_xlabel('FWHM (pixels)')\n",
    "ax1.set_ylabel('MAG_AUTO')\n",
    "ax1.scatter(cat_data['FWHM_IMAGE'],cat_data['MAG_AUTO'],color='blue',s=10,edgecolor='none')"
   ]
  },
  {
   "cell_type": "markdown",
   "metadata": {},
   "source": [
    "## Now Scamp"
   ]
  },
  {
   "cell_type": "code",
   "execution_count": 69,
   "metadata": {
    "collapsed": true
   },
   "outputs": [],
   "source": [
    "scamp_dir='scamp/'\n",
    "if not os.path.exists(scamp_dir):\n",
    "    os.mkdir(scamp_dir)\n",
    "\n",
    "scamp_list_file='scamp_list_file.dat'\n",
    "file = open(scamp_list_file, 'w')\n",
    "for i in range(len(cat_file)):\n",
    "    file.write(cat_file[i]+'\\n')\n",
    "file.close()"
   ]
  },
  {
   "cell_type": "code",
   "execution_count": 71,
   "metadata": {
    "collapsed": false
   },
   "outputs": [
    {
     "name": "stdout",
     "output_type": "stream",
     "text": [
      "# Default configuration file for SCAMP 2.2.6\n",
      "# EB 2015-12-16\n",
      "#\n",
      " \n",
      "#----------------------------- Field grouping ---------------------------------\n",
      " \n",
      "FGROUP_RADIUS          1.0             # Max dist (deg) between field groups\n",
      " \n",
      "#---------------------------- Reference catalogs ------------------------------\n",
      " \n",
      "REF_SERVER         cocat1.u-strasbg.fr # Internet addresses of catalog servers\n",
      "ASTREF_CATALOG         2MASS           # NONE, FILE, USNO-A1,USNO-A2,USNO-B1,\n",
      "                                       # GSC-1.3,GSC-2.2,GSC-2.3, TYCHO-2,\n",
      "                                       # UCAC-1,UCAC-2,UCAC-3,UCAC-4, URAT-1,\n",
      "                                       # NOMAD-1, PPMX, CMC-14, 2MASS, DENIS-3,\n",
      "                                       # SDSS-R3,SDSS-R5,SDSS-R6,SDSS-R7,\n",
      "                                       # SDSS-R8, SDSS-R9\n",
      "ASTREF_BAND            DEFAULT         # Photom. band for astr.ref.magnitudes\n",
      "                                       # or DEFAULT, BLUEST, or REDDEST\n",
      "ASTREFMAG_LIMITS       -99.0,99.0      # Select magnitude range in ASTREF_BAND\n",
      "SAVE_REFCATALOG        N               # Save ref catalogs in FITS-LDAC format?\n",
      "REFOUT_CATPATH         .               # Save path for reference catalogs\n",
      " \n",
      "#--------------------------- Merged output catalogs ---------------------------\n",
      " \n",
      "MERGEDOUTCAT_TYPE      NONE            # NONE, ASCII_HEAD, ASCII, FITS_LDAC\n",
      "MERGEDOUTCAT_NAME      merged.cat      # Merged output catalog filename\n",
      " \n",
      "#--------------------------- Full output catalogs ---------------------------\n",
      " \n",
      "FULLOUTCAT_TYPE        NONE            # NONE, ASCII_HEAD, ASCII, FITS_LDAC\n",
      "FULLOUTCAT_NAME        full.cat        # Full output catalog filename\n",
      " \n",
      "#----------------------------- Pattern matching -------------------------------\n",
      " \n",
      "MATCH                  Y               # Do pattern-matching (Y/N) ?\n",
      "MATCH_NMAX             0               # Max.number of detections for MATCHing\n",
      "                                       # (0=auto)\n",
      "PIXSCALE_MAXERR        1.2             # Max scale-factor uncertainty\n",
      "POSANGLE_MAXERR        5.0             # Max position-angle uncertainty (deg)\n",
      "POSITION_MAXERR        1.0             # Max positional uncertainty (arcmin)\n",
      "MATCH_RESOL            0               # Matching resolution (arcsec); 0=auto\n",
      "MATCH_FLIPPED          N               # Allow matching with flipped axes?\n",
      "MOSAIC_TYPE            UNCHANGED       # UNCHANGED, SAME_CRVAL, SHARE_PROJAXIS,\n",
      "                                       # FIX_FOCALPLANE or LOOSE\n",
      " \n",
      "#---------------------------- Cross-identification ----------------------------\n",
      " \n",
      "CROSSID_RADIUS         2.0             # Cross-id initial radius (arcsec)\n",
      " \n",
      "#---------------------------- Astrometric solution ----------------------------\n",
      " \n",
      "SOLVE_ASTROM           Y               # Compute astrometric solution (Y/N) ?\n",
      "PROJECTION_TYPE        SAME            # SAME, TPV or TAN\n",
      "ASTRINSTRU_KEY         FILTER,QRUNID   # FITS keyword(s) defining the astrom\n",
      "STABILITY_TYPE         INSTRUMENT      # EXPOSURE, PRE-DISTORTED or INSTRUMENT\n",
      "CENTROID_KEYS          XWIN_IMAGE,YWIN_IMAGE # Cat. parameters for centroiding\n",
      "CENTROIDERR_KEYS       ERRAWIN_IMAGE,ERRBWIN_IMAGE,ERRTHETAWIN_IMAGE\n",
      "                                       # Cat. params for centroid err ellipse\n",
      "DISTORT_KEYS           XWIN_IMAGE,YWIN_IMAGE # Cat. parameters or FITS keywords\n",
      "DISTORT_GROUPS         1,1             # Polynom group for each context key\n",
      "DISTORT_DEGREES        3               # Polynom degree for each group\n",
      " \n",
      "#---------------------------- Photometric solution ----------------------------\n",
      " \n",
      "SOLVE_PHOTOM           Y               # Compute photometric solution (Y/N) ?\n",
      "MAGZERO_OUT            0.0             # Magnitude zero-point(s) in output\n",
      "MAGZERO_INTERR         0.01            # Internal mag.zero-point accuracy\n",
      "MAGZERO_REFERR         0.03            # Photom.field mag.zero-point accuracy\n",
      "PHOTINSTRU_KEY         FILTER          # FITS keyword(s) defining the photom.\n",
      "MAGZERO_KEY            PHOT_C          # FITS keyword for the mag zero-point\n",
      "EXPOTIME_KEY           EXPTIME         # FITS keyword for the exposure time (s)\n",
      "AIRMASS_KEY            AIRMASS         # FITS keyword for the airmass\n",
      "EXTINCT_KEY            PHOT_K          # FITS keyword for the extinction coeff\n",
      "PHOTOMFLAG_KEY         PHOTFLAG        # FITS keyword for the photometry flag\n",
      "PHOTFLUX_KEY           FLUX_AUTO       # Catalog param. for the flux measurement\n",
      "PHOTFLUXERR_KEY        FLUXERR_AUTO    # Catalog parameter for the flux error\n",
      " \n",
      "#------------------------------- Check-plots ----------------------------------\n",
      " \n",
      "CHECKPLOT_DEV          PNG             # NULL, XWIN, TK, PS, PSC, XFIG, PNG,\n",
      "                                       # JPEG, AQT, PDF or SVG\n",
      "CHECKPLOT_TYPE         FGROUPS,DISTORTION,ASTR_INTERROR2D,ASTR_INTERROR1D,ASTR_REFERROR2D,ASTR_REFERROR1D,ASTR_CHI2,PHOT_ERROR\n",
      "CHECKPLOT_NAME         fgroups,distort,astr_interror2d,astr_interror1d,astr_referror2d,astr_referror1d,astr_chi2,psphot_error # Check-plot filename(s)\n",
      " \n",
      "#------------------------------ Miscellaneous ---------------------------------\n",
      " \n",
      "SN_THRESHOLDS          10.0,100.0      # S/N thresholds (in sigmas) for all and\n",
      "                                       # high-SN sample\n",
      "FWHM_THRESHOLDS        0.0,100.0       # FWHM thresholds (in pixels) for sources\n",
      "AHEADER_SUFFIX         .ahead          # Filename extension for additional\n",
      "                                       # INPUT headers\n",
      "HEADER_SUFFIX          .head           # Filename extension for OUTPUT headers\n",
      "VERBOSE_TYPE           NORMAL          # QUIET, NORMAL, LOG or FULL\n",
      "WRITE_XML              Y               # Write XML file (Y/N)?\n",
      "XML_NAME               scamp.xml       # Filename for XML output\n",
      "NTHREADS               0               # Number of simultaneous threads for\n",
      "                                       # the SMP version of SCAMP\n",
      "                                       # 0 = automatic\n",
      "\n"
     ]
    }
   ],
   "source": [
    "cmd='scamp -d > '+scamp_dir+'kp4m_mosaic.scamp'\n",
    "subprocess.call(cmd,shell=True)\n",
    "cmd='cat '+scamp_dir+'kp4m_mosaic.scamp'\n",
    "print subprocess.check_output(cmd,shell=True)"
   ]
  },
  {
   "cell_type": "code",
   "execution_count": 110,
   "metadata": {
    "collapsed": true
   },
   "outputs": [],
   "source": [
    "scamp_pos_error='1.2'\n",
    "scamp_scale_error='1.02'\n",
    "scamp_angle_error='0.02'\n",
    "scamp_sn_thresholds='30.,60.'\n",
    "scamp_fwhm_thresholds='2.,10.'\n",
    "scamp_pixel_scale='0.258'\n",
    "scamp_crossid_radius='0.65' #Suggestion is 2.5*Pixel_scale\n",
    "scamp_distort_degrees='4'\n",
    "scamp_astref_catalog = '2MASS'\n",
    "scamp_astref_band = 'Ks'\n",
    "scamp_astrefmag_limits='6.,20.' \n",
    "scamp_match_resol='0.'\n",
    "\n",
    "scamp_list_file='scamp_list_file.dat'\n",
    "scamp_conf_file=scamp_dir+'kp4m_mosaic.scamp'\n",
    "scamp_refcat_dir = scamp_dir+'refcat'\n",
    "scamp_dir_out = scamp_dir+'scamp_ORDER_'+scamp_distort_degrees+'_REFCAT_'+scamp_astref_catalog\n",
    "scamp_cat_file = scamp_dir_out+'/scamp_mosaic_cat.ldac'\n",
    "scamp_cat_type = 'FITS_LDAC'\n",
    "scamp_xml_file = scamp_dir_out+'/scamp_mosaic_xml.xml'\n",
    "scamp_check_type = 'SKY_ALL,FGROUPS,DISTORTION,ASTR_INTERROR2D,ASTR_INTERROR1D,ASTR_REFERROR2D,ASTR_REFERROR1D,ASTR_CHI2,PHOT_ERROR'\n",
    "scamp_check_file =  ','.join([scamp_dir_out+'/'+file for file in ['sky_all','fgroups','distort','astr_interror2d','astr_interror1d','astr_referror2d','astr_referror1d','astr_chi2','psphot_error']])"
   ]
  },
  {
   "cell_type": "code",
   "execution_count": 111,
   "metadata": {
    "collapsed": false
   },
   "outputs": [
    {
     "name": "stdout",
     "output_type": "stream",
     "text": [
      "scamp @scamp_list_file.dat -c scamp/kp4m_mosaic.scamp -MERGEDOUTCAT_TYPE FITS_LDAC -MERGEDOUTCAT_NAME scamp/scamp_ORDER_4_REFCAT_2MASS/scamp_mosaic_cat.ldac -MATCH Y -WRITE_XML Y -XML_NAME scamp/scamp_ORDER_4_REFCAT_2MASS/scamp_mosaic_xml.xml -SAVE_REFCATALOG Y -REFOUT_CATPATH scamp/refcat -CHECKPLOT_DEV PSC -CHECKPLOT_ANTIALIAS Y -CHECKPLOT_TYPE SKY_ALL,FGROUPS,DISTORTION,ASTR_INTERROR2D,ASTR_INTERROR1D,ASTR_REFERROR2D,ASTR_REFERROR1D,ASTR_CHI2,PHOT_ERROR -CHECKPLOT_NAME scamp/scamp_ORDER_4_REFCAT_2MASS/sky_all,scamp/scamp_ORDER_4_REFCAT_2MASS/fgroups,scamp/scamp_ORDER_4_REFCAT_2MASS/distort,scamp/scamp_ORDER_4_REFCAT_2MASS/astr_interror2d,scamp/scamp_ORDER_4_REFCAT_2MASS/astr_interror1d,scamp/scamp_ORDER_4_REFCAT_2MASS/astr_referror2d,scamp/scamp_ORDER_4_REFCAT_2MASS/astr_referror1d,scamp/scamp_ORDER_4_REFCAT_2MASS/astr_chi2,scamp/scamp_ORDER_4_REFCAT_2MASS/psphot_error -ASTREF_CATALOG 2MASS -ASTREF_BAND Ks -ASTREFMAG_LIMITS 6.,20. -DISTORT_DEGREES 4 -PHOTCLIP_NSIGMA 2. -SOLVE_ASTROM Y -SOLVE_PHOTOM N -POSITION_MAXERR 1.2 -PIXSCALE_MAXERR 1.02 -POSANGLE_MAXERR 0.02 -SN_THRESHOLDS 30.,60. -FWHM_THRESHOLDS 2.,10. -CROSSID_RADIUS 0.65 -MATCH_RESOL 0.\n"
     ]
    }
   ],
   "source": [
    "if not os.path.exists(scamp_refcat_dir):\n",
    "    os.mkdir(scamp_refcat_dir)\n",
    "    \n",
    "if not os.path.exists(scamp_dir_out):\n",
    "    os.mkdir(scamp_dir_out)\n",
    "\n",
    "cmd='scamp @'+scamp_list_file+' -c '+scamp_conf_file+' -MERGEDOUTCAT_TYPE '+scamp_cat_type+' -MERGEDOUTCAT_NAME '+scamp_cat_file+' -MATCH Y -WRITE_XML Y -XML_NAME '+scamp_xml_file+' -SAVE_REFCATALOG Y -REFOUT_CATPATH '+scamp_refcat_dir+' -CHECKPLOT_DEV PSC -CHECKPLOT_ANTIALIAS Y -CHECKPLOT_TYPE '+scamp_check_type + ' -CHECKPLOT_NAME '+scamp_check_file + ' -ASTREF_CATALOG '+scamp_astref_catalog+' -ASTREF_BAND '+scamp_astref_band+' -ASTREFMAG_LIMITS '+scamp_astrefmag_limits+' -DISTORT_DEGREES '+scamp_distort_degrees+' -PHOTCLIP_NSIGMA 2. -SOLVE_ASTROM Y -SOLVE_PHOTOM N -POSITION_MAXERR '+scamp_pos_error+' -PIXSCALE_MAXERR '+scamp_scale_error+' -POSANGLE_MAXERR '+scamp_angle_error+' -SN_THRESHOLDS '+scamp_sn_thresholds+' -FWHM_THRESHOLDS '+scamp_fwhm_thresholds+' -CROSSID_RADIUS '+scamp_crossid_radius+' -MATCH_RESOL '+scamp_match_resol\n",
    "cmd_args=shlex.split(cmd)\n",
    "print cmd"
   ]
  },
  {
   "cell_type": "code",
   "execution_count": 112,
   "metadata": {
    "collapsed": false
   },
   "outputs": [
    {
     "ename": "OSError",
     "evalue": "[Errno 2] No such file or directory",
     "output_type": "error",
     "traceback": [
      "\u001b[0;31m---------------------------------------------------------------------------\u001b[0m",
      "\u001b[0;31mOSError\u001b[0m                                   Traceback (most recent call last)",
      "\u001b[0;32m<ipython-input-112-9ec26b1dad67>\u001b[0m in \u001b[0;36m<module>\u001b[0;34m()\u001b[0m\n\u001b[0;32m----> 1\u001b[0;31m \u001b[0mproc\u001b[0m \u001b[0;34m=\u001b[0m \u001b[0msubprocess\u001b[0m\u001b[0;34m.\u001b[0m\u001b[0mPopen\u001b[0m\u001b[0;34m(\u001b[0m\u001b[0mcmd_args\u001b[0m\u001b[0;34m,\u001b[0m\u001b[0mstdout\u001b[0m\u001b[0;34m=\u001b[0m\u001b[0msubprocess\u001b[0m\u001b[0;34m.\u001b[0m\u001b[0mPIPE\u001b[0m\u001b[0;34m,\u001b[0m \u001b[0mstderr\u001b[0m\u001b[0;34m=\u001b[0m\u001b[0msubprocess\u001b[0m\u001b[0;34m.\u001b[0m\u001b[0mPIPE\u001b[0m\u001b[0;34m)\u001b[0m\u001b[0;34m\u001b[0m\u001b[0m\n\u001b[0m\u001b[1;32m      2\u001b[0m \u001b[0mstdout\u001b[0m\u001b[0;34m,\u001b[0m \u001b[0mstderr\u001b[0m \u001b[0;34m=\u001b[0m \u001b[0mproc\u001b[0m\u001b[0;34m.\u001b[0m\u001b[0mcommunicate\u001b[0m\u001b[0;34m(\u001b[0m\u001b[0;34m)\u001b[0m\u001b[0;34m\u001b[0m\u001b[0m\n\u001b[1;32m      3\u001b[0m \u001b[0;32mprint\u001b[0m \u001b[0mstderr\u001b[0m\u001b[0;34m\u001b[0m\u001b[0m\n",
      "\u001b[0;32m/usr/local/Cellar/python/2.7.10_2/Frameworks/Python.framework/Versions/2.7/lib/python2.7/subprocess.pyc\u001b[0m in \u001b[0;36m__init__\u001b[0;34m(self, args, bufsize, executable, stdin, stdout, stderr, preexec_fn, close_fds, shell, cwd, env, universal_newlines, startupinfo, creationflags)\u001b[0m\n\u001b[1;32m    708\u001b[0m                                 \u001b[0mp2cread\u001b[0m\u001b[0;34m,\u001b[0m \u001b[0mp2cwrite\u001b[0m\u001b[0;34m,\u001b[0m\u001b[0;34m\u001b[0m\u001b[0m\n\u001b[1;32m    709\u001b[0m                                 \u001b[0mc2pread\u001b[0m\u001b[0;34m,\u001b[0m \u001b[0mc2pwrite\u001b[0m\u001b[0;34m,\u001b[0m\u001b[0;34m\u001b[0m\u001b[0m\n\u001b[0;32m--> 710\u001b[0;31m                                 errread, errwrite)\n\u001b[0m\u001b[1;32m    711\u001b[0m         \u001b[0;32mexcept\u001b[0m \u001b[0mException\u001b[0m\u001b[0;34m:\u001b[0m\u001b[0;34m\u001b[0m\u001b[0m\n\u001b[1;32m    712\u001b[0m             \u001b[0;31m# Preserve original exception in case os.close raises.\u001b[0m\u001b[0;34m\u001b[0m\u001b[0;34m\u001b[0m\u001b[0m\n",
      "\u001b[0;32m/usr/local/Cellar/python/2.7.10_2/Frameworks/Python.framework/Versions/2.7/lib/python2.7/subprocess.pyc\u001b[0m in \u001b[0;36m_execute_child\u001b[0;34m(self, args, executable, preexec_fn, close_fds, cwd, env, universal_newlines, startupinfo, creationflags, shell, to_close, p2cread, p2cwrite, c2pread, c2pwrite, errread, errwrite)\u001b[0m\n\u001b[1;32m   1333\u001b[0m                         \u001b[0;32mraise\u001b[0m\u001b[0;34m\u001b[0m\u001b[0m\n\u001b[1;32m   1334\u001b[0m                 \u001b[0mchild_exception\u001b[0m \u001b[0;34m=\u001b[0m \u001b[0mpickle\u001b[0m\u001b[0;34m.\u001b[0m\u001b[0mloads\u001b[0m\u001b[0;34m(\u001b[0m\u001b[0mdata\u001b[0m\u001b[0;34m)\u001b[0m\u001b[0;34m\u001b[0m\u001b[0m\n\u001b[0;32m-> 1335\u001b[0;31m                 \u001b[0;32mraise\u001b[0m \u001b[0mchild_exception\u001b[0m\u001b[0;34m\u001b[0m\u001b[0m\n\u001b[0m\u001b[1;32m   1336\u001b[0m \u001b[0;34m\u001b[0m\u001b[0m\n\u001b[1;32m   1337\u001b[0m \u001b[0;34m\u001b[0m\u001b[0m\n",
      "\u001b[0;31mOSError\u001b[0m: [Errno 2] No such file or directory"
     ]
    }
   ],
   "source": [
    "proc = subprocess.Popen(cmd_args,stdout=subprocess.PIPE, stderr=subprocess.PIPE)\n",
    "stdout, stderr = proc.communicate()\n",
    "print stderr"
   ]
  },
  {
   "cell_type": "code",
   "execution_count": null,
   "metadata": {
    "collapsed": true
   },
   "outputs": [],
   "source": []
  }
 ],
 "metadata": {
  "kernelspec": {
   "display_name": "Python 2",
   "language": "python",
   "name": "python2"
  },
  "language_info": {
   "codemirror_mode": {
    "name": "ipython",
    "version": 2
   },
   "file_extension": ".py",
   "mimetype": "text/x-python",
   "name": "python",
   "nbconvert_exporter": "python",
   "pygments_lexer": "ipython2",
   "version": "2.7.10"
  }
 },
 "nbformat": 4,
 "nbformat_minor": 0
}
