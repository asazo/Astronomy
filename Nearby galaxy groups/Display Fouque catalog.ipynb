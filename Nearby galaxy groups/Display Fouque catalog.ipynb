{
 "cells": [
  {
   "cell_type": "code",
   "execution_count": 37,
   "metadata": {
    "collapsed": true
   },
   "outputs": [],
   "source": [
    "from astropy.table import Table, Column\n",
    "import numpy as np\n",
    "import pandas as pd"
   ]
  },
  {
   "cell_type": "code",
   "execution_count": 51,
   "metadata": {
    "collapsed": false
   },
   "outputs": [],
   "source": [
    "cat_file='data/Nearby galaxy groups - Fouque 1992.txt'\n",
    "cat_data=Table(dtype=[('name', 'S30'), ('ra', 'f4'), ('dec', 'f4'), ('l','f4'), ('b','f4'), ('N','i4'), ('velocity','f4'),('distance','f4'),('members','S300')])\n",
    "\n",
    "file = open(cat_file, 'r')\n",
    "\n",
    "id=0\n",
    "for line in file:\n",
    "    if line[0]=='#': continue\n",
    "    elif line[0]!=' ':\n",
    "        word=line.split()\n",
    "#        print word\n",
    "        if word[1].isdigit():\n",
    "            data=tuple((word[0],float(word[1])+float(word[2])/60.,word[3],word[4],word[5],word[6],word[7],word[8],word[9]))\n",
    "        elif word[2].isdigit():\n",
    "            data=tuple((word[0]+' '+word[1],float(word[2])+float(word[3])/60.,word[4],word[5],word[6],word[7],word[8],word[9],word[10]))\n",
    "        elif word[3].isdigit():\n",
    "            data=tuple((word[0]+' '+word[1]+' '+word[2],float(word[3])+float(word[4])/60.,word[5],word[6],word[7],word[8],word[9],word[10],word[11]))\n",
    "        else:\n",
    "            print 'WARNING: Something is wrong'\n",
    "        cat_data.add_row(data)\n",
    "        id=id+1\n",
    "    elif line[0]==' ':\n",
    "        word=line.split()\n",
    "#        print word\n",
    "        cat_data['members'][-1]=cat_data['members'][-1]+word[0]\n",
    "\n",
    "cat_data.write('data/Nearby galaxy groups - Fouque 1992.csv', format='csv')\n",
    "#cat_data=cat_data.to_pandas()\n",
    "#cat_data.to_json('data/Nearby galaxy groups - Fouque 1992.json',orient='records')\n",
    "#cat_data.head()"
   ]
  },
  {
   "cell_type": "code",
   "execution_count": 62,
   "metadata": {
    "collapsed": false
   },
   "outputs": [
    {
     "data": {
      "text/html": [
       "&lt;Table length=12&gt;\n",
       "<table id=\"table4448053712\">\n",
       "<thead><tr><th>name</th><th>ra</th><th>dec</th><th>l</th><th>b</th><th>N</th><th>velocity</th><th>distance</th><th>members</th></tr></thead>\n",
       "<thead><tr><th>str12</th><th>float64</th><th>float64</th><th>float64</th><th>float64</th><th>int64</th><th>float64</th><th>float64</th><th>str300</th></tr></thead>\n",
       "<tr><td>Sculptor</td><td>0.600000023842</td><td>-31.0</td><td>265.0</td><td>-4.0</td><td>8</td><td>177.0</td><td>9.0</td><td>55,247,253,300,7793,IC1574,ESO471-6,ESO540-31.</td></tr>\n",
       "<tr><td>NGC5128</td><td>13.4166669846</td><td>-41.5999984741</td><td>158.0</td><td>-5.0</td><td>15</td><td>390.0</td><td>14.0</td><td>4945,5102,5128,5206,5236,5237,5253,5264,5408,ESO270-17,ESO324-24,ESO325-11,ESO381-20,ESO383-87,PGC51659.</td></tr>\n",
       "<tr><td>Leo I</td><td>11.0333337784</td><td>13.0</td><td>95.0</td><td>-23.0</td><td>14</td><td>702.0</td><td>35.0</td><td>3299,3351,3368,3377,3377A,3379,3384,3412,3489,3593,3599,3623,3627,3628.</td></tr>\n",
       "<tr><td>NGC6744</td><td>19.0666675568</td><td>-64.1999969482</td><td>207.0</td><td>10.0</td><td>6</td><td>746.0</td><td>40.0</td><td>6684,6684A,6744,IC4710,IC4824,ESO141-42.</td></tr>\n",
       "<tr><td>NGC2427</td><td>7.73333311081</td><td>-50.0</td><td>193.0</td><td>-54.0</td><td>5</td><td>823.0</td><td>40.0</td><td>2427,2502,ESO208-21,ESO208-33,ESO209-9.</td></tr>\n",
       "<tr><td>NGC2997</td><td>9.75</td><td>-31.1000003815</td><td>146.0</td><td>-48.0</td><td>8</td><td>851.0</td><td>40.0</td><td>2997,3056,IC2507,ESO373-8,ESO434-33,ESO434-34,ESO434-41,ESO435-16.</td></tr>\n",
       "<tr><td>Virgo I</td><td>12.5333337784</td><td>11.5</td><td>104.0</td><td>-2.0</td><td>177</td><td>895.0</td><td>52.0</td><td>4037,4064,4124,4178,4192,4204,4206,4212,4216,4222,4237,4239,4262,4267,4293,4294,4298,4299,4302,4305,4307,4309,4312,4313,4316,4321,4330,4336,4339,4340,4341,4343,4350,4352,4356,4365,4371,4374,4377,4379,4380,4382,4383,4387,4394,4396,4402,4406,4411A,4411B,4413,4416,4417,4419,4421,4423,4424,4425,4429,443</td></tr>\n",
       "<tr><td>NGC1433</td><td>3.84999990463</td><td>-46.2999992371</td><td>248.0</td><td>-41.0</td><td>10</td><td>916.0</td><td>60.0</td><td>1411,1433,1448,1493,1494,1495,1527,IC1970,IC2000,ESO249-36.</td></tr>\n",
       "<tr><td>NGC4594</td><td>12.6666669846</td><td>-11.1000003815</td><td>126.0</td><td>-7.0</td><td>8</td><td>957.0</td><td>50.0</td><td>4487,4504,4594,4722,4802,MCG-1-32-28,MCG-2-32-15,MCG-2-33-47.</td></tr>\n",
       "<tr><td>NGC4753</td><td>12.9166669846</td><td>0.600000023842</td><td>116.0</td><td>0.0</td><td>9</td><td>1084.0</td><td>55.0</td><td>4753,4771,4772,4809,4845,4900,4904,UGC7982,UGC8041.</td></tr>\n",
       "<tr><td>NGC4697</td><td>12.8833332062</td><td>-7.40000009537</td><td>123.0</td><td>-2.0</td><td>25</td><td>1191.0</td><td>55.0</td><td>4691,4697,4699,4700,4731,4742,4775,4781,4818,4941,4948,4951,4958,IC3908,UGCA295,MCGMCG-1-33-82,MCG-2-33-15,MCG-2-34-6.</td></tr>\n",
       "<tr><td>NGC4303</td><td>12.4833335876</td><td>3.40000009537</td><td>111.0</td><td>-5.0</td><td>15</td><td>1592.0</td><td>55.0</td><td>4303,4324,4420,4496A,4517A,4527,4533,4536,4581,4599,IC3474,UGC7387,UGC7522,UGC7612,UGC7780.</td></tr>\n",
       "</table>"
      ],
      "text/plain": [
       "<Table length=12>\n",
       "  name   ...\n",
       " str12   ...\n",
       "-------- ...\n",
       "Sculptor ...\n",
       " NGC5128 ...\n",
       "   Leo I ...\n",
       " NGC6744 ...\n",
       " NGC2427 ...\n",
       " NGC2997 ...\n",
       " Virgo I ...\n",
       " NGC1433 ...\n",
       " NGC4594 ...\n",
       " NGC4753 ...\n",
       " NGC4697 ...\n",
       " NGC4303 ..."
      ]
     },
     "execution_count": 62,
     "metadata": {},
     "output_type": "execute_result"
    }
   ],
   "source": [
    "cat_file='data/Nearby galaxy groups - Fouque 1992.csv'\n",
    "cat_data=Table.read(cat_file, format='csv')\n",
    "cat_data\n",
    "\n",
    "gv=((cat_data['dec']<15.) & (cat_data['distance']<20.*3.2) & (cat_data['N']>4))\n",
    "cat_data[gv]\n",
    "#pd.read_json(cat_file, orient='records')\n",
    "#cat_data.keys()\n",
    "#cat_data.head()"
   ]
  },
  {
   "cell_type": "code",
   "execution_count": null,
   "metadata": {
    "collapsed": true
   },
   "outputs": [],
   "source": []
  }
 ],
 "metadata": {
  "kernelspec": {
   "display_name": "Python 2",
   "language": "python",
   "name": "python2"
  },
  "language_info": {
   "codemirror_mode": {
    "name": "ipython",
    "version": 2
   },
   "file_extension": ".py",
   "mimetype": "text/x-python",
   "name": "python",
   "nbconvert_exporter": "python",
   "pygments_lexer": "ipython2",
   "version": "2.7.10"
  }
 },
 "nbformat": 4,
 "nbformat_minor": 0
}
