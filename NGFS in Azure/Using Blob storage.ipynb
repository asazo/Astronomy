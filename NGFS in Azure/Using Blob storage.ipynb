{
 "cells": [
  {
   "cell_type": "code",
   "execution_count": 14,
   "metadata": {
    "collapsed": false
   },
   "outputs": [],
   "source": [
    "import numpy as np\n",
    "#from azure.storage.blob import BlobService\n",
    "from azure.storage.blob import BlockBlobService, ContentSettings\n",
    "\n",
    "from os import listdir\n",
    "from os.path import isfile, join"
   ]
  },
  {
   "cell_type": "code",
   "execution_count": 12,
   "metadata": {
    "collapsed": false
   },
   "outputs": [
    {
     "name": "stdout",
     "output_type": "stream",
     "text": [
      "images\n"
     ]
    }
   ],
   "source": [
    "blob_service = BlockBlobService(account_name='ngfs', account_key='gAUcSFS72s9MNCrT9DNHBuavU9eJpgQ+9aT1jbnGtMUURzCQGsvrwrdYiSK5ZA5w1XGc8CK6pbpJFqMnHiprQg==')\n",
    "\n",
    "generator = blob_service.list_containers()\n",
    "for container in generator:\n",
    "    print(container.name)"
   ]
  },
  {
   "cell_type": "code",
   "execution_count": 17,
   "metadata": {
    "collapsed": false
   },
   "outputs": [
    {
     "name": "stdout",
     "output_type": "stream",
     "text": [
      "Uploading file:  /Volumes/Data/Data/NGFS/images/ngfs_tile1_rgb_asinh_v3.jpg\n",
      "Uploading file:  /Volumes/Data/Data/NGFS/images/ngfs_tile4_rgb_asinh_v3.jpg\n"
     ]
    }
   ],
   "source": [
    "CONTAINER_NAME = \"images\"\n",
    "IMAGE_PATH = \"/Volumes/Data/Data/NGFS/images/\"\n",
    "\n",
    "im_file_list = [f for f in listdir(IMAGE_PATH) if isfile(join(IMAGE_PATH, f))]\n",
    "\n",
    "n = len(im_file_list)\n",
    "for i in range(n):\n",
    "    im_file = join(IMAGE_PATH, im_file_list[i])\n",
    "    blob_name = im_file_list[i]\n",
    "    try:\n",
    "        print \"Uploading file: \", im_file\n",
    "        blob_service.create_blob_from_path(CONTAINER_NAME, blob_name, im_file)\n",
    "    except:\n",
    "        print \"Something wrong happened when uploading the data %s\"%blob_name"
   ]
  },
  {
   "cell_type": "code",
   "execution_count": 7,
   "metadata": {
    "collapsed": false
   },
   "outputs": [],
   "source": [
    "\n",
    "\n",
    "\n",
    "\n",
    "im_file='/Volumes/Data/Data/NGFS/images/ngfs_tile1_rgb_asinh_v3.jpg'\n",
    "\n",
    "block_blob_service.create_blob_from_path( 'images', 'rgb_tile1', im_file,\n",
    "                                         content_settings=ContentSettings(content_type='image/jpg') )"
   ]
  },
  {
   "cell_type": "code",
   "execution_count": 9,
   "metadata": {
    "collapsed": false
   },
   "outputs": [
    {
     "name": "stdout",
     "output_type": "stream",
     "text": [
      "rgb_tile1\n"
     ]
    }
   ],
   "source": [
    "generator = block_blob_service.list_blobs('images')\n",
    "for blob in generator:\n",
    "    print(blob.name)"
   ]
  },
  {
   "cell_type": "code",
   "execution_count": null,
   "metadata": {
    "collapsed": true
   },
   "outputs": [],
   "source": []
  }
 ],
 "metadata": {
  "kernelspec": {
   "display_name": "Python 2",
   "language": "python",
   "name": "python2"
  },
  "language_info": {
   "codemirror_mode": {
    "name": "ipython",
    "version": 2
   },
   "file_extension": ".py",
   "mimetype": "text/x-python",
   "name": "python",
   "nbconvert_exporter": "python",
   "pygments_lexer": "ipython2",
   "version": "2.7.10"
  }
 },
 "nbformat": 4,
 "nbformat_minor": 0
}
